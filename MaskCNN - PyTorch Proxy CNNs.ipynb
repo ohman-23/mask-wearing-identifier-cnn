{
 "cells": [
  {
   "cell_type": "code",
   "execution_count": 16,
   "metadata": {},
   "outputs": [],
   "source": [
    "import torch\n",
    "import torch.nn as nn\n",
    "import torch.nn.functional as F\n",
    "import torchvision.transforms as transforms \n",
    "from torch.utils.data import Dataset, DataLoader, SubsetRandomSampler"
   ]
  },
  {
   "cell_type": "code",
   "execution_count": 1,
   "metadata": {},
   "outputs": [],
   "source": [
    "import matplotlib.pyplot as plt\n",
    "import numpy as np\n",
    "import pandas as pd\n",
    "import os\n",
    "import cv2\n",
    "import sys\n",
    "import json"
   ]
  },
  {
   "cell_type": "code",
   "execution_count": 17,
   "metadata": {},
   "outputs": [],
   "source": [
    "def return_labeled_data_color():\n",
    "    TARGET_NO_MASK_DIR=\"../images_color_transformed_no_mask\"\n",
    "    TARGET_MASK_DIR=\"../images_color_transformed_mask\"\n",
    "    # no mask\n",
    "    data_list = []\n",
    "    target_list = []\n",
    "    for filename in os.listdir(TARGET_NO_MASK_DIR):\n",
    "        img = cv2.imread(f'{TARGET_NO_MASK_DIR}/{filename}')\n",
    "        data_list.append(img)\n",
    "        target_list.append(0.0)\n",
    "        \n",
    "    # mask\n",
    "    for filename in os.listdir(TARGET_MASK_DIR):\n",
    "        img = cv2.imread(f'{TARGET_MASK_DIR}/{filename}')\n",
    "        data_list.append(img)\n",
    "        target_list.append(1.0)\n",
    "    return data_list, target_list"
   ]
  },
  {
   "cell_type": "code",
   "execution_count": 18,
   "metadata": {},
   "outputs": [],
   "source": [
    "def return_labeled_data_gray():\n",
    "    TARGET_NO_MASK_DIR=\"../images_gray_transformed_no_mask\"\n",
    "    TARGET_MASK_DIR=\"../images_gray_transformed_mask\"\n",
    "    # no mask\n",
    "    data_list = []\n",
    "    target_list = []\n",
    "    for filename in os.listdir(TARGET_NO_MASK_DIR):\n",
    "        img = cv2.imread(f'{TARGET_NO_MASK_DIR}/{filename}', cv2.IMREAD_GRAYSCALE)\n",
    "        data_list.append(img)\n",
    "        target_list.append(0.0)\n",
    "        \n",
    "    # mask\n",
    "    for filename in os.listdir(TARGET_MASK_DIR):\n",
    "        img = cv2.imread(f'{TARGET_MASK_DIR}/{filename}', cv2.IMREAD_GRAYSCALE)\n",
    "        data_list.append(img)\n",
    "        target_list.append(1.0)\n",
    "    return data_list, target_list"
   ]
  },
  {
   "cell_type": "code",
   "execution_count": 19,
   "metadata": {},
   "outputs": [],
   "source": [
    "data_raw, target_raw = return_labeled_data_gray()"
   ]
  },
  {
   "cell_type": "code",
   "execution_count": 28,
   "metadata": {},
   "outputs": [],
   "source": [
    "data_raw, target_raw = return_labeled_data_color()"
   ]
  },
  {
   "cell_type": "code",
   "execution_count": 20,
   "metadata": {},
   "outputs": [],
   "source": [
    "class MaskDataSet(Dataset):\n",
    "    def __init__(self, X, y, transform=None):\n",
    "        self.X = X\n",
    "        self.y = torch.tensor(y)\n",
    "        self.n = len(self.y)\n",
    "        self.transform = transform\n",
    "        \n",
    "    def __getitem__(self, index):\n",
    "        x, y = self.X[index], self.y[index]\n",
    "        if self.transform:\n",
    "            x = self.transform(x)\n",
    "        return x,y\n",
    "            \n",
    "    def __len__(self):\n",
    "        return self.n\n",
    "\n",
    "img_transform = transforms.Compose([transforms.ToTensor(), transforms.Normalize((0), (1))])\n",
    "dataset = MaskDataSet(data_raw, target_raw, transform=img_transform)"
   ]
  },
  {
   "cell_type": "code",
   "execution_count": 21,
   "metadata": {},
   "outputs": [],
   "source": [
    "BATCH_SIZE = 20"
   ]
  },
  {
   "cell_type": "code",
   "execution_count": 22,
   "metadata": {},
   "outputs": [],
   "source": [
    "total_idxs = np.random.permutation(np.arange(0, len(dataset), 1))\n",
    "split_val_idx = int(np.floor(len(total_idxs)*0.7))\n",
    "split_test_idx = int(np.floor(len(total_idxs)*0.8))\n",
    "train_idxs, val_idxs, test_idxs = total_idxs[:split_val_idx], total_idxs[split_val_idx:split_test_idx], total_idxs[split_test_idx:]\n",
    "\n",
    "train_sampler = SubsetRandomSampler(train_idxs)\n",
    "val_sampler = SubsetRandomSampler(val_idxs)\n",
    "test_sampler = SubsetRandomSampler(test_idxs)\n",
    "\n",
    "train_load = DataLoader(dataset=dataset, batch_size=BATCH_SIZE, sampler=train_sampler)\n",
    "val_load = DataLoader(dataset=dataset, batch_size=BATCH_SIZE, sampler=val_sampler)\n",
    "test_load = DataLoader(dataset=dataset, batch_size=BATCH_SIZE, sampler=test_sampler, shuffle=False)"
   ]
  },
  {
   "cell_type": "code",
   "execution_count": 23,
   "metadata": {},
   "outputs": [],
   "source": [
    "def sigmoid(x):\n",
    "    return torch.exp(x)/(1+torch.exp(x))\n",
    "\n",
    "class MaskCNNGray(nn.Module):\n",
    "    def __init__(self, N):\n",
    "        super(MaskCNNGray, self).__init__()\n",
    "        self.conv1 = nn.Conv2d(1, 8, 3)\n",
    "        self.pool = nn.MaxPool2d(2,2)\n",
    "        self.linear1 = nn.Linear(8*16*16, 256)\n",
    "        self.linear2 = nn.Linear(256, 1)\n",
    "        \n",
    "    def forward(self, x):\n",
    "        out = self.pool(F.relu(self.conv1(x)))\n",
    "        out = out.view(-1, 8*16*16)\n",
    "        out = F.relu(self.linear1(out))\n",
    "        return sigmoid(self.linear2(out))"
   ]
  },
  {
   "cell_type": "code",
   "execution_count": 24,
   "metadata": {},
   "outputs": [],
   "source": [
    "class MaskCNNColor(nn.Module):\n",
    "    def __init__(self, N):\n",
    "        super(MaskCNNColor, self).__init__()\n",
    "        self.conv1 = nn.Conv2d(3, 8, 3)\n",
    "        self.pool = nn.MaxPool2d(2,2)\n",
    "        self.linear1 = nn.Linear(8*16*16, 256)\n",
    "        self.linear2 = nn.Linear(256, 1)\n",
    "        \n",
    "    def forward(self, x):\n",
    "        out = self.pool(F.relu(self.conv1(x)))\n",
    "        out = out.view(-1, 8*16*16)\n",
    "        out = F.relu(self.linear1(out))\n",
    "        return sigmoid(self.linear2(out))"
   ]
  },
  {
   "cell_type": "code",
   "execution_count": 25,
   "metadata": {},
   "outputs": [],
   "source": [
    "# Seems that the data is linearly seperable!!\n",
    "class Perceptron(nn.Module):\n",
    "    def __init__(self):\n",
    "        super(Perceptron, self).__init__()\n",
    "        self.linear1 = nn.Linear(34*34, 256)\n",
    "        self.linear2 = nn.Linear(256, 1)\n",
    "        \n",
    "    def forward(self, x):\n",
    "        out = x.view(-1, 34*34)\n",
    "        out = self.linear1(out)\n",
    "        return F.sigmoid(self.linear2(out))\n",
    "    "
   ]
  },
  {
   "cell_type": "markdown",
   "metadata": {},
   "source": [
    "### Model Training\n",
    "- Train the grayscale model or color model depending on which dataset was loaded"
   ]
  },
  {
   "cell_type": "code",
   "execution_count": 39,
   "metadata": {},
   "outputs": [],
   "source": [
    "EPOCHS = 100\n",
    "IMAGE_DIM = 34\n",
    "model = MaskCNNGray(IMAGE_DIM)\n",
    "# model = MaskCNNColor(IMAGE_DIM)\n",
    "criterion = nn.BCELoss()\n",
    "optimizer = torch.optim.SGD(model.parameters(), lr=0.01)"
   ]
  },
  {
   "cell_type": "code",
   "execution_count": 40,
   "metadata": {
    "scrolled": true
   },
   "outputs": [
    {
     "name": "stdout",
     "output_type": "stream",
     "text": [
      "EPOCH:0 - Training Loss: 10.343568801879883 - Validation Loss: 2.073237180709839\n",
      "Validation Loss Decreased From 9223372036854775807 => 2.073237180709839\n",
      "EPOCH:1 - Training Loss: 10.250484466552734 - Validation Loss: 2.0523040294647217\n",
      "Validation Loss Decreased From 2.073237180709839 => 2.0523040294647217\n",
      "EPOCH:2 - Training Loss: 10.157368659973145 - Validation Loss: 1.994253158569336\n",
      "Validation Loss Decreased From 2.0523040294647217 => 1.994253158569336\n",
      "EPOCH:3 - Training Loss: 10.066155433654785 - Validation Loss: 1.968820571899414\n",
      "Validation Loss Decreased From 1.994253158569336 => 1.968820571899414\n",
      "EPOCH:4 - Training Loss: 9.986722946166992 - Validation Loss: 2.0577950477600098\n",
      "EPOCH:5 - Training Loss: 9.881986618041992 - Validation Loss: 2.058774948120117\n",
      "EPOCH:6 - Training Loss: 9.712321281433105 - Validation Loss: 2.030158281326294\n",
      "EPOCH:7 - Training Loss: 9.564886093139648 - Validation Loss: 1.8144593238830566\n",
      "Validation Loss Decreased From 1.968820571899414 => 1.8144593238830566\n",
      "EPOCH:8 - Training Loss: 9.345805168151855 - Validation Loss: 1.7698493003845215\n",
      "Validation Loss Decreased From 1.8144593238830566 => 1.7698493003845215\n",
      "EPOCH:9 - Training Loss: 9.147149085998535 - Validation Loss: 1.7047160863876343\n",
      "Validation Loss Decreased From 1.7698493003845215 => 1.7047160863876343\n",
      "EPOCH:10 - Training Loss: 8.867453575134277 - Validation Loss: 1.8791613578796387\n",
      "EPOCH:11 - Training Loss: 8.552278518676758 - Validation Loss: 1.8169426918029785\n",
      "EPOCH:12 - Training Loss: 8.221631050109863 - Validation Loss: 1.5185872316360474\n",
      "Validation Loss Decreased From 1.7047160863876343 => 1.5185872316360474\n",
      "EPOCH:13 - Training Loss: 7.840088844299316 - Validation Loss: 1.390463948249817\n",
      "Validation Loss Decreased From 1.5185872316360474 => 1.390463948249817\n",
      "EPOCH:14 - Training Loss: 7.449789047241211 - Validation Loss: 1.546639084815979\n",
      "EPOCH:15 - Training Loss: 7.105144500732422 - Validation Loss: 1.695255994796753\n",
      "EPOCH:16 - Training Loss: 6.8898820877075195 - Validation Loss: 1.454296588897705\n",
      "EPOCH:17 - Training Loss: 6.497454643249512 - Validation Loss: 1.4584734439849854\n",
      "EPOCH:18 - Training Loss: 6.30858039855957 - Validation Loss: 1.3144763708114624\n",
      "Validation Loss Decreased From 1.390463948249817 => 1.3144763708114624\n",
      "EPOCH:19 - Training Loss: 6.045420169830322 - Validation Loss: 1.1605607271194458\n",
      "Validation Loss Decreased From 1.3144763708114624 => 1.1605607271194458\n",
      "EPOCH:20 - Training Loss: 5.7337117195129395 - Validation Loss: 0.9004351496696472\n",
      "Validation Loss Decreased From 1.1605607271194458 => 0.9004351496696472\n",
      "EPOCH:21 - Training Loss: 5.4991583824157715 - Validation Loss: 1.098100185394287\n",
      "EPOCH:22 - Training Loss: 5.347726821899414 - Validation Loss: 1.1470329761505127\n",
      "EPOCH:23 - Training Loss: 5.297876358032227 - Validation Loss: 1.218381643295288\n",
      "EPOCH:24 - Training Loss: 5.0463151931762695 - Validation Loss: 0.8523967266082764\n",
      "Validation Loss Decreased From 0.9004351496696472 => 0.8523967266082764\n",
      "EPOCH:25 - Training Loss: 4.733093738555908 - Validation Loss: 1.5605876445770264\n",
      "EPOCH:26 - Training Loss: 4.55206823348999 - Validation Loss: 0.9347649812698364\n",
      "EPOCH:27 - Training Loss: 4.318945407867432 - Validation Loss: 1.308368444442749\n",
      "EPOCH:28 - Training Loss: 4.195276260375977 - Validation Loss: 0.661880373954773\n",
      "Validation Loss Decreased From 0.8523967266082764 => 0.661880373954773\n",
      "EPOCH:29 - Training Loss: 4.005993366241455 - Validation Loss: 1.0881295204162598\n",
      "EPOCH:30 - Training Loss: 3.935851812362671 - Validation Loss: 0.6288460493087769\n",
      "Validation Loss Decreased From 0.661880373954773 => 0.6288460493087769\n",
      "EPOCH:31 - Training Loss: 3.522913932800293 - Validation Loss: 0.8456214666366577\n",
      "EPOCH:32 - Training Loss: 3.436197280883789 - Validation Loss: 0.9168984889984131\n",
      "EPOCH:33 - Training Loss: 3.413153886795044 - Validation Loss: 0.6074581742286682\n",
      "Validation Loss Decreased From 0.6288460493087769 => 0.6074581742286682\n",
      "EPOCH:34 - Training Loss: 3.0436744689941406 - Validation Loss: 0.7517714500427246\n",
      "EPOCH:35 - Training Loss: 2.755875825881958 - Validation Loss: 0.531332790851593\n",
      "Validation Loss Decreased From 0.6074581742286682 => 0.531332790851593\n",
      "EPOCH:36 - Training Loss: 2.7251334190368652 - Validation Loss: 0.7150850296020508\n",
      "EPOCH:37 - Training Loss: 2.625126361846924 - Validation Loss: 0.6202151775360107\n",
      "EPOCH:38 - Training Loss: 2.434737205505371 - Validation Loss: 0.5550718307495117\n",
      "EPOCH:39 - Training Loss: 2.2960398197174072 - Validation Loss: 0.6428945064544678\n",
      "EPOCH:40 - Training Loss: 2.14914870262146 - Validation Loss: 0.7655065059661865\n",
      "EPOCH:41 - Training Loss: 2.0066730976104736 - Validation Loss: 0.5356953740119934\n",
      "EPOCH:42 - Training Loss: 1.9159449338912964 - Validation Loss: 0.4062628746032715\n",
      "Validation Loss Decreased From 0.531332790851593 => 0.4062628746032715\n",
      "EPOCH:43 - Training Loss: 1.9007779359817505 - Validation Loss: 0.5069472193717957\n",
      "EPOCH:44 - Training Loss: 1.7043240070343018 - Validation Loss: 1.7686864137649536\n",
      "EPOCH:45 - Training Loss: 1.682464361190796 - Validation Loss: 0.33667418360710144\n",
      "Validation Loss Decreased From 0.4062628746032715 => 0.33667418360710144\n",
      "EPOCH:46 - Training Loss: 1.5582377910614014 - Validation Loss: 0.4104498624801636\n",
      "EPOCH:47 - Training Loss: 1.5016582012176514 - Validation Loss: 0.6491848230361938\n",
      "EPOCH:48 - Training Loss: 1.4727433919906616 - Validation Loss: 0.45867544412612915\n",
      "EPOCH:49 - Training Loss: 1.341404914855957 - Validation Loss: 0.7353144884109497\n",
      "EPOCH:50 - Training Loss: 1.2788095474243164 - Validation Loss: 0.40881264209747314\n",
      "EPOCH:51 - Training Loss: 1.3221309185028076 - Validation Loss: 0.2688046395778656\n",
      "Validation Loss Decreased From 0.33667418360710144 => 0.2688046395778656\n",
      "EPOCH:52 - Training Loss: 1.2411483526229858 - Validation Loss: 0.45732104778289795\n",
      "EPOCH:53 - Training Loss: 1.2080137729644775 - Validation Loss: 0.25090986490249634\n",
      "Validation Loss Decreased From 0.2688046395778656 => 0.25090986490249634\n",
      "EPOCH:54 - Training Loss: 1.1365351676940918 - Validation Loss: 0.257839560508728\n",
      "EPOCH:55 - Training Loss: 1.05789053440094 - Validation Loss: 0.255205899477005\n",
      "EPOCH:56 - Training Loss: 1.0273162126541138 - Validation Loss: 0.3191264271736145\n",
      "EPOCH:57 - Training Loss: 1.046077847480774 - Validation Loss: 0.27283182740211487\n",
      "EPOCH:58 - Training Loss: 1.0122510194778442 - Validation Loss: 0.3583243489265442\n",
      "EPOCH:59 - Training Loss: 1.0182766914367676 - Validation Loss: 0.30480414628982544\n",
      "EPOCH:60 - Training Loss: 0.8831047415733337 - Validation Loss: 0.21513892710208893\n",
      "Validation Loss Decreased From 0.25090986490249634 => 0.21513892710208893\n",
      "EPOCH:61 - Training Loss: 0.8611482977867126 - Validation Loss: 0.22545233368873596\n",
      "EPOCH:62 - Training Loss: 0.907060980796814 - Validation Loss: 2.4738049507141113\n",
      "EPOCH:63 - Training Loss: 0.7616409063339233 - Validation Loss: 0.2577809989452362\n",
      "EPOCH:64 - Training Loss: 0.7582535147666931 - Validation Loss: 0.24486012756824493\n",
      "EPOCH:65 - Training Loss: 0.7342383861541748 - Validation Loss: 0.39793384075164795\n",
      "EPOCH:66 - Training Loss: 0.7417249083518982 - Validation Loss: 0.1733204424381256\n",
      "Validation Loss Decreased From 0.21513892710208893 => 0.1733204424381256\n",
      "EPOCH:67 - Training Loss: 0.7658584117889404 - Validation Loss: 0.1703324317932129\n",
      "Validation Loss Decreased From 0.1733204424381256 => 0.1703324317932129\n",
      "EPOCH:68 - Training Loss: 0.7964648604393005 - Validation Loss: 0.20147301256656647\n",
      "EPOCH:69 - Training Loss: 0.6684671640396118 - Validation Loss: 2.5654349327087402\n",
      "EPOCH:70 - Training Loss: 0.6656213998794556 - Validation Loss: 0.19826549291610718\n",
      "EPOCH:71 - Training Loss: 0.7265182733535767 - Validation Loss: 0.29461660981178284\n",
      "EPOCH:72 - Training Loss: 0.621110737323761 - Validation Loss: 0.20233602821826935\n",
      "EPOCH:73 - Training Loss: 0.6073164343833923 - Validation Loss: 0.33981961011886597\n",
      "EPOCH:74 - Training Loss: 0.600662350654602 - Validation Loss: 0.30819061398506165\n",
      "EPOCH:75 - Training Loss: 0.5537216663360596 - Validation Loss: 0.261659175157547\n",
      "EPOCH:76 - Training Loss: 0.5305904746055603 - Validation Loss: 0.21945175528526306\n",
      "EPOCH:77 - Training Loss: 0.5550724267959595 - Validation Loss: 0.18556733429431915\n",
      "EPOCH:78 - Training Loss: 0.4927312135696411 - Validation Loss: 0.22242471575737\n",
      "EPOCH:79 - Training Loss: 0.5433965921401978 - Validation Loss: 0.29813307523727417\n"
     ]
    },
    {
     "name": "stdout",
     "output_type": "stream",
     "text": [
      "EPOCH:80 - Training Loss: 0.5281020402908325 - Validation Loss: 0.7442758083343506\n",
      "EPOCH:81 - Training Loss: 0.5016749501228333 - Validation Loss: 0.14842751622200012\n",
      "Validation Loss Decreased From 0.1703324317932129 => 0.14842751622200012\n",
      "EPOCH:82 - Training Loss: 0.4574525058269501 - Validation Loss: 0.2233348786830902\n",
      "EPOCH:83 - Training Loss: 0.43618643283843994 - Validation Loss: 0.19917504489421844\n",
      "EPOCH:84 - Training Loss: 0.42974385619163513 - Validation Loss: 0.23950441181659698\n",
      "EPOCH:85 - Training Loss: 0.4066448509693146 - Validation Loss: 0.1916821151971817\n",
      "EPOCH:86 - Training Loss: 0.4107075035572052 - Validation Loss: 0.23943226039409637\n",
      "EPOCH:87 - Training Loss: 0.4024044871330261 - Validation Loss: 0.33574584126472473\n",
      "EPOCH:88 - Training Loss: 0.4842630624771118 - Validation Loss: 0.1340702921152115\n",
      "Validation Loss Decreased From 0.14842751622200012 => 0.1340702921152115\n",
      "EPOCH:89 - Training Loss: 0.42792826890945435 - Validation Loss: 0.21537376940250397\n",
      "EPOCH:90 - Training Loss: 0.41062307357788086 - Validation Loss: 0.15750208497047424\n",
      "EPOCH:91 - Training Loss: 0.3583439588546753 - Validation Loss: 0.20451363921165466\n",
      "EPOCH:92 - Training Loss: 0.35427993535995483 - Validation Loss: 0.20119063556194305\n",
      "EPOCH:93 - Training Loss: 0.3620321750640869 - Validation Loss: 0.2399037927389145\n",
      "EPOCH:94 - Training Loss: 0.3732045888900757 - Validation Loss: 0.20443859696388245\n",
      "EPOCH:95 - Training Loss: 0.3505092263221741 - Validation Loss: 0.24294978380203247\n",
      "EPOCH:96 - Training Loss: 0.38650190830230713 - Validation Loss: 0.17010638117790222\n",
      "EPOCH:97 - Training Loss: 0.3339328169822693 - Validation Loss: 0.2749137282371521\n",
      "EPOCH:98 - Training Loss: 0.31418949365615845 - Validation Loss: 0.22735102474689484\n",
      "EPOCH:99 - Training Loss: 0.3074951469898224 - Validation Loss: 0.2044200748205185\n"
     ]
    }
   ],
   "source": [
    "# train loop\n",
    "train_loss = []\n",
    "val_loss = []\n",
    "val_loss_min = sys.maxsize\n",
    "\n",
    "for epoch in range(EPOCHS):\n",
    "    training_loss = 0\n",
    "    train_size = 0\n",
    "    validation_loss = 0\n",
    "    validation_size = 0\n",
    "    \n",
    "    model.train()\n",
    "    for images, labels in train_load:\n",
    "#         images, labels = images.to(device), labels.to(device)\n",
    "        # train\n",
    "        labels = labels.view(len(labels), -1)\n",
    "        optimizer.zero_grad()\n",
    "        out = model.forward(images)\n",
    "\n",
    "        loss = criterion(out, labels)\n",
    "        loss.backward()\n",
    "        optimizer.step()\n",
    "        training_loss += loss\n",
    "        train_size += len(images)\n",
    "        # .item()\n",
    "    \n",
    "    model.eval()\n",
    "    for images, labels in val_load:\n",
    "        # images, labels = images.to(device), labels.to(device)\n",
    "        labels = labels.view(len(labels), -1)\n",
    "        optimizer.zero_grad()\n",
    "        out = model.forward(images)\n",
    "        loss = criterion(out, labels)\n",
    "        validation_loss += loss\n",
    "        validation_size += len(images)\n",
    "        # .item()\n",
    "    \n",
    "    t_loss = training_loss\n",
    "    v_loss = validation_loss\n",
    "    train_loss.append(t_loss.item())\n",
    "    val_loss.append(v_loss.item())\n",
    "    \n",
    "    print(f\"EPOCH:{epoch} - Training Loss: {t_loss} - Validation Loss: {v_loss}\")\n",
    "    if v_loss < val_loss_min:\n",
    "        print(f\"Validation Loss Decreased From {val_loss_min} => {v_loss}\")\n",
    "        val_loss_min = v_loss"
   ]
  },
  {
   "cell_type": "code",
   "execution_count": 45,
   "metadata": {},
   "outputs": [],
   "source": [
    "# test loop\n",
    "n_samples = 0\n",
    "n_correct = 0\n",
    "classified_correct = []\n",
    "classified_incorrect = []\n",
    "confusion_matrix = np.zeros((2,2))\n",
    "\n",
    "model.eval()\n",
    "for images, labels in test_load:\n",
    "#     images, labels = images.to(device), labels.to(device)\n",
    "    optimizer.zero_grad()\n",
    "    preds = torch.round(model(images))\n",
    "    preds, labels = preds.detach().numpy(), labels.detach().numpy()\n",
    "    n_samples += len(preds)\n",
    "    n_correct += len((preds == labels))\n",
    "    # .item()\n",
    "    for i in range(2):\n",
    "        idxs = np.arange(0, len(preds), 1)[labels==i]\n",
    "        for ind in idxs:\n",
    "            confusion_matrix[i][int(preds[ind])] += 1\n",
    "            if preds[ind] == i:\n",
    "                classified_correct.append([images[ind], preds[ind]])\n",
    "            else:\n",
    "                classified_incorrect.append([images[ind], preds[ind]])"
   ]
  },
  {
   "cell_type": "code",
   "execution_count": 46,
   "metadata": {},
   "outputs": [
    {
     "name": "stdout",
     "output_type": "stream",
     "text": [
      "Model Accuracy: 100.0\n"
     ]
    }
   ],
   "source": [
    "print(f\"Model Accuracy: {(n_correct/n_samples)*100}\")"
   ]
  },
  {
   "cell_type": "code",
   "execution_count": 47,
   "metadata": {},
   "outputs": [
    {
     "name": "stdout",
     "output_type": "stream",
     "text": [
      "[[35.  1.]\n",
      " [ 1. 45.]]\n"
     ]
    }
   ],
   "source": [
    "print(confusion_matrix)"
   ]
  },
  {
   "cell_type": "code",
   "execution_count": 49,
   "metadata": {},
   "outputs": [],
   "source": [
    "def predict(model, img):\n",
    "    copy = img.copy()\n",
    "    model.eval()\n",
    "    optimizer.zero_grad()\n",
    "    trans = img_transform(img)\n",
    "    trans = trans.view(-1, *list(trans.shape))\n",
    "    out = torch.round(model.forward(trans))\n",
    "    pred = 'No Mask' if out == 0 else 'Mask'\n",
    "    print(pred)\n",
    "    plot_image(copy)"
   ]
  },
  {
   "cell_type": "code",
   "execution_count": 51,
   "metadata": {},
   "outputs": [],
   "source": [
    "def plot_image(img):\n",
    "    fig = plt.figure(figsize=(10,8))\n",
    "    plt.imshow(img, cmap='gray')\n",
    "    plt.show()"
   ]
  },
  {
   "cell_type": "code",
   "execution_count": 56,
   "metadata": {},
   "outputs": [
    {
     "name": "stdout",
     "output_type": "stream",
     "text": [
      "No Mask\n"
     ]
    },
    {
     "data": {
      "image/png": "[encoded data removed]",
      "text/plain": [
       "<Figure size 720x576 with 1 Axes>"
      ]
     },
     "metadata": {
      "needs_background": "light"
     },
     "output_type": "display_data"
    }
   ],
   "source": [
    "predict(model, data_raw[45])"
   ]
  },
  {
   "cell_type": "code",
   "execution_count": 54,
   "metadata": {},
   "outputs": [
    {
     "name": "stdout",
     "output_type": "stream",
     "text": [
      "Mask\n"
     ]
    },
    {
     "data": {
      "image/png": "[encoded data removed]",
      "text/plain": [
       "<Figure size 720x576 with 1 Axes>"
      ]
     },
     "metadata": {
      "needs_background": "light"
     },
     "output_type": "display_data"
    }
   ],
   "source": [
    "predict(model, data_raw[250])"
   ]
  },
  {
   "cell_type": "markdown",
   "metadata": {},
   "source": [
    "### Viewing Grayscale CNN Kernels\n",
    "- Usually first layer kernels learn detailed feature extractions, but the kernels below don't seem to reflect this. This may be due to the fact that my kernel sizes aren't large enough to resonably display edge detectors like I was hoping..."
   ]
  },
  {
   "cell_type": "code",
   "execution_count": 57,
   "metadata": {},
   "outputs": [
    {
     "data": {
      "image/png": "[encoded data removed]",
      "text/plain": [
       "<Figure size 1440x864 with 8 Axes>"
      ]
     },
     "metadata": {
      "needs_background": "light"
     },
     "output_type": "display_data"
    }
   ],
   "source": [
    "weights = []\n",
    "for i in range(len(model.conv1.weight)):\n",
    "    weights.append(model.conv1.weight[i].detach().numpy()[0])\n",
    "    \n",
    "fig,axes = plt.subplots(2,4,figsize=(20,12))\n",
    "for i in range(2):\n",
    "    for j in range(4):\n",
    "        axes[i][j].imshow(weights[i*4+j], cmap='gray')"
   ]
  }
 ],
 "metadata": {
  "kernelspec": {
   "display_name": "Python 3",
   "language": "python",
   "name": "python3"
  },
  "language_info": {
   "codemirror_mode": {
    "name": "ipython",
    "version": 3
   },
   "file_extension": ".py",
   "mimetype": "text/x-python",
   "name": "python",
   "nbconvert_exporter": "python",
   "pygments_lexer": "ipython3",
   "version": "3.8.5"
  }
 },
 "nbformat": 4,
 "nbformat_minor": 4
}
