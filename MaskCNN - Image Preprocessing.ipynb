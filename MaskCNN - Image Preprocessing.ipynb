{
 "cells": [
  {
   "cell_type": "code",
   "execution_count": 1,
   "metadata": {},
   "outputs": [],
   "source": [
    "import cv2\n",
    "import numpy\n",
    "import matplotlib.pyplot as plt\n",
    "from wand.image import Image\n",
    "import mediapipe as mp\n",
    "import os"
   ]
  },
  {
   "cell_type": "markdown",
   "metadata": {},
   "source": [
    "Note to self - I had to install ImageMagick (https://imagemagick.org/script/download.php#windows) and install Wand to convert MEIC to JPG"
   ]
  },
  {
   "cell_type": "code",
   "execution_count": null,
   "metadata": {},
   "outputs": [],
   "source": [
    "!pip install Wand"
   ]
  },
  {
   "cell_type": "code",
   "execution_count": 2,
   "metadata": {},
   "outputs": [],
   "source": [
    "def plot_image(img):\n",
    "    fig = plt.figure(figsize=(10,8))\n",
    "    plt.imshow(img, cmap='gray')\n",
    "    plt.show()\n",
    "    \n",
    "def plot_image_color(img):\n",
    "    fig = plt.figure(figsize=(10,8))\n",
    "    plt.imshow(img)\n",
    "    plt.show()"
   ]
  },
  {
   "cell_type": "markdown",
   "metadata": {},
   "source": [
    "#### Image Preprocessing Utils"
   ]
  },
  {
   "cell_type": "code",
   "execution_count": 3,
   "metadata": {},
   "outputs": [],
   "source": [
    "faceDetect = mp.solutions.face_detection\n",
    "detection = faceDetect.FaceDetection()\n",
    "RESIZE_DIM = 34\n",
    "\n",
    "def detect_face_boundaries(img):\n",
    "    IMG_H, IMG_W = img.shape[0], img.shape[1]\n",
    "    processed = False\n",
    "    boundary_tuple = None\n",
    "    result = detection.process(img)\n",
    "    \n",
    "    if result.detections:\n",
    "        face = result.detections[0]\n",
    "        box_info = face.location_data.relative_bounding_box\n",
    "        x,y,w,h = int(box_info.xmin*IMG_W), int(box_info.ymin*IMG_H), int(box_info.width*IMG_W), int(box_info.height*IMG_H)\n",
    "        boundary_tuple = (y,y+h,x,x+w)\n",
    "        processed = True\n",
    "        \n",
    "    return boundary_tuple, processed\n",
    "\n",
    "def automatic_brightness_and_contrast(image, clip_hist_percent=1):\n",
    "    gray = cv2.cvtColor(image, cv2.COLOR_BGR2GRAY)\n",
    "    \n",
    "    # Calculate grayscale histogram\n",
    "    hist = cv2.calcHist([gray],[0],None,[256],[0,256])\n",
    "    hist_size = len(hist)\n",
    "    \n",
    "    # Calculate cumulative distribution from the histogram\n",
    "    accumulator = []\n",
    "    accumulator.append(float(hist[0]))\n",
    "    for index in range(1, hist_size):\n",
    "        accumulator.append(accumulator[index -1] + float(hist[index]))\n",
    "    \n",
    "    # Locate points to clip\n",
    "    maximum = accumulator[-1]\n",
    "    clip_hist_percent *= (maximum/100.0)\n",
    "    clip_hist_percent /= 2.0\n",
    "    \n",
    "    # Locate left cut\n",
    "    minimum_gray = 0\n",
    "    while accumulator[minimum_gray] < clip_hist_percent:\n",
    "        minimum_gray += 1\n",
    "    \n",
    "    # Locate right cut\n",
    "    maximum_gray = hist_size -1\n",
    "    while accumulator[maximum_gray] >= (maximum - clip_hist_percent):\n",
    "        maximum_gray -= 1\n",
    "    \n",
    "    # Calculate alpha and beta values\n",
    "    alpha = 255 / (maximum_gray - minimum_gray)\n",
    "    beta = -minimum_gray * alpha\n",
    "    \n",
    "    '''\n",
    "    # Calculate new histogram with desired range and show histogram \n",
    "    new_hist = cv2.calcHist([gray],[0],None,[256],[minimum_gray,maximum_gray])\n",
    "    plt.plot(hist)\n",
    "    plt.plot(new_hist)\n",
    "    plt.xlim([0,256])\n",
    "    plt.show()\n",
    "    '''\n",
    "    auto_result = cv2.convertScaleAbs(image, alpha=alpha, beta=beta)\n",
    "    return auto_result"
   ]
  },
  {
   "cell_type": "markdown",
   "metadata": {},
   "source": [
    "### JPG Transformation Function\n",
    "- backbone of the preprocessing pipeline"
   ]
  },
  {
   "cell_type": "code",
   "execution_count": null,
   "metadata": {},
   "outputs": [],
   "source": [
    "def apply_jpg_transform(img, color=False):\n",
    "    # detect face and crop\n",
    "    face_boundaries, face_detected = detect_face_boundaries(img)\n",
    "    if not face_detected:\n",
    "        return None, False\n",
    "    \n",
    "    R_START, R_END, C_START, C_END = face_boundaries\n",
    "    # apply contrast balancing\n",
    "    img = automatic_brightness_and_contrast(img)\n",
    "    \n",
    "    if not color:\n",
    "        # Grayscale Processing\n",
    "        img = cv2.cvtColor(img, cv2.COLOR_BGR2GRAY)\n",
    "        \n",
    "    elif color:\n",
    "        # Color Processing\n",
    "        pass\n",
    "    \n",
    "    cropped_face = img[R_START:R_END, C_START:C_END]\n",
    "    \n",
    "    downsampled = cv2.resize(cropped_face, (RESIZE_DIM, RESIZE_DIM), interpolation = cv2.INTER_CUBIC)\n",
    "    # get the width of the photo\n",
    "    n = downsampled.shape[1] \n",
    "    n = n-1 if n%2==1 else n\n",
    "    downsampled = cv2.resize(downsampled,(n, n))\n",
    "    return downsampled, True"
   ]
  },
  {
   "cell_type": "markdown",
   "metadata": {},
   "source": [
    "### Photo OS Shuffling\n",
    "- Note, these directories may need to be updated to properly fit within the confines of whichever file structure they find themselves in. At the time of this message, the datasets used are hidden from this github repo."
   ]
  },
  {
   "cell_type": "code",
   "execution_count": 5,
   "metadata": {},
   "outputs": [],
   "source": [
    "SOURCE_DIR=\"../images\"\n",
    "TARGET_JPG_DIR=\"../images_jpg\"\n",
    "MASK_JGP_DIR=\"../images_jpg_mask\"\n",
    "NO_MASK_JGP_DIR=\"../images_jpg_no_mask\"\n",
    "TARGET_GRAY_NO_MASK_DIR=\"../images_gray_transformed_no_mask\"\n",
    "TARGET_GRAY_MASK_DIR=\"../images_gray_transformed_mask\"\n",
    "TARGET_COLOR_NO_MASK_DIR=\"../images_color_transformed_no_mask\"\n",
    "TARGET_COLOR_MASK_DIR=\"../images_color_transformed_mask\"\n",
    "\n",
    "def convert_heic_to_jpg(filename):\n",
    "    img_name, file_type = filename.split('.')\n",
    "    img = Image(filename=f\"{SOURCE_DIR}/{filename}\")\n",
    "    img.format = 'jpg'\n",
    "    img.save(filename=f\"{TARGET_JPG_DIR}/{img_name}.JPG\")\n",
    "    img.close()\n",
    "\n",
    "def convert_pictures_to_jpg():     \n",
    "    for heic_filename in os.listdir(f'{SOURCE_DIR}'):\n",
    "        img_name, file_type = heic_filename.split('.')\n",
    "        img = convert_heic_to_jpg(heic_filename)\n",
    "\n",
    "def process_pictures(color=False):\n",
    "    # for no mask\n",
    "    target_no_mask_dir = TARGET_COLOR_NO_MASK_DIR if color else TARGET_GRAY_NO_MASK_DIR\n",
    "    target_mask_dir = TARGET_COLOR_MASK_DIR if color else TARGET_GRAY_MASK_DIR\n",
    "    \n",
    "    for jpg_filename in os.listdir(f'{NO_MASK_JGP_DIR}'):\n",
    "        img_name, file_type = jpg_filename.split('.')\n",
    "        img = cv2.imread(f'{NO_MASK_JGP_DIR}/{img_name}.JPG')\n",
    "        img, processed = apply_jpg_transform(img, color=color)\n",
    "        if processed:\n",
    "            cv2.imwrite(f'{target_no_mask_dir}/{img_name}.JPG', img)\n",
    "    \n",
    "    # for mask\n",
    "    for jpg_filename in os.listdir(f'{MASK_JGP_DIR}'):\n",
    "        img_name, file_type = jpg_filename.split('.')\n",
    "        img = cv2.imread(f'{MASK_JGP_DIR}/{img_name}.JPG')\n",
    "        img, processed = apply_jpg_transform(img, color=color)\n",
    "        if processed:\n",
    "            cv2.imwrite(f'{target_mask_dir}/{img_name}.JPG', img)"
   ]
  },
  {
   "cell_type": "markdown",
   "metadata": {},
   "source": [
    "## Convert HIEC FILES TO JPG\n",
    "- manual sorting of mask vs non mask images is required"
   ]
  },
  {
   "cell_type": "code",
   "execution_count": 4,
   "metadata": {},
   "outputs": [],
   "source": [
    "convert_pictures_to_jpg()"
   ]
  },
  {
   "cell_type": "markdown",
   "metadata": {},
   "source": [
    "## Preprocessing Images"
   ]
  },
  {
   "cell_type": "code",
   "execution_count": 68,
   "metadata": {},
   "outputs": [],
   "source": [
    "process_pictures(color=False)"
   ]
  },
  {
   "cell_type": "code",
   "execution_count": 69,
   "metadata": {},
   "outputs": [],
   "source": [
    "process_pictures(color=True)"
   ]
  },
  {
   "cell_type": "markdown",
   "metadata": {},
   "source": [
    "### VIEWING PREPROCESSED IMAGES"
   ]
  },
  {
   "cell_type": "code",
   "execution_count": 30,
   "metadata": {},
   "outputs": [],
   "source": [
    "nomask = ['IMG_5459', 'IMG_5493', 'IMG_837064129', 'IMG_837063099']\n",
    "mask = ['IMG_5576', 'IMG_837068269', 'IMG_5663', 'IMG_837068657']\n",
    "nomaskimg = [cv2.imread(f\"{TARGET_GRAY_NO_MASK_DIR}/{name}.jpg\", cv2.IMREAD_GRAYSCALE) for name in nomask]\n",
    "maskimg = [cv2.imread(f\"{TARGET_GRAY_MASK_DIR}/{name}.jpg\", cv2.IMREAD_GRAYSCALE) for name in mask]"
   ]
  },
  {
   "cell_type": "markdown",
   "metadata": {},
   "source": [
    "#### No Mask"
   ]
  },
  {
   "cell_type": "code",
   "execution_count": 32,
   "metadata": {},
   "outputs": [
    {
     "data": {
      "image/png": "[encoded data removed]",
      "text/plain": [
       "<Figure size 720x576 with 4 Axes>"
      ]
     },
     "metadata": {
      "needs_background": "light"
     },
     "output_type": "display_data"
    }
   ],
   "source": [
    "fig, axes = plt.subplots(2,2, figsize=(10,8))\n",
    "axes[0][0].imshow(nomaskimg[0], cmap='gray')\n",
    "axes[0][1].imshow(nomaskimg[1], cmap='gray')\n",
    "axes[1][0].imshow(nomaskimg[2], cmap='gray')\n",
    "axes[1][1].imshow(nomaskimg[3], cmap='gray')\n",
    "plt.savefig('nomaskpre.png')\n",
    "plt.show()"
   ]
  },
  {
   "cell_type": "markdown",
   "metadata": {},
   "source": [
    "#### Mask"
   ]
  },
  {
   "cell_type": "code",
   "execution_count": 33,
   "metadata": {},
   "outputs": [
    {
     "data": {
      "image/png": "[encoded data removed]",
      "text/plain": [
       "<Figure size 720x576 with 4 Axes>"
      ]
     },
     "metadata": {
      "needs_background": "light"
     },
     "output_type": "display_data"
    }
   ],
   "source": [
    "fig, axes = plt.subplots(2,2, figsize=(10,8))\n",
    "axes[0][0].imshow(maskimg[0], cmap='gray')\n",
    "axes[0][1].imshow(maskimg[1], cmap='gray')\n",
    "axes[1][0].imshow(maskimg[2], cmap='gray')\n",
    "axes[1][1].imshow(maskimg[3], cmap='gray')\n",
    "plt.savefig('maskpre.png')\n",
    "plt.show()"
   ]
  }
 ],
 "metadata": {
  "kernelspec": {
   "display_name": "Python 3",
   "language": "python",
   "name": "python3"
  },
  "language_info": {
   "codemirror_mode": {
    "name": "ipython",
    "version": 3
   },
   "file_extension": ".py",
   "mimetype": "text/x-python",
   "name": "python",
   "nbconvert_exporter": "python",
   "pygments_lexer": "ipython3",
   "version": "3.8.5"
  }
 },
 "nbformat": 4,
 "nbformat_minor": 4
}
